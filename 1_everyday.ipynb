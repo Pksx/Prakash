{
  "nbformat": 4,
  "nbformat_minor": 0,
  "metadata": {
    "colab": {
      "provenance": [],
      "authorship_tag": "ABX9TyO6CTXh6dQ0OdQlyX56YQs5",
      "include_colab_link": true
    },
    "kernelspec": {
      "name": "python3",
      "display_name": "Python 3"
    },
    "language_info": {
      "name": "python"
    }
  },
  "cells": [
    {
      "cell_type": "markdown",
      "metadata": {
        "id": "view-in-github",
        "colab_type": "text"
      },
      "source": [
        "<a href=\"https://colab.research.google.com/github/Pksx/Prakash/blob/main/1_everyday.ipynb\" target=\"_parent\"><img src=\"https://colab.research.google.com/assets/colab-badge.svg\" alt=\"Open In Colab\"/></a>"
      ]
    },
    {
      "cell_type": "code",
      "source": [
        "print(\"helloworld\")"
      ],
      "metadata": {
        "colab": {
          "base_uri": "https://localhost:8080/"
        },
        "id": "ocwb7TXbZIcy",
        "outputId": "6717ea2e-3267-4ab0-b746-c971838aa7a7"
      },
      "execution_count": null,
      "outputs": [
        {
          "output_type": "stream",
          "name": "stdout",
          "text": [
            "helloworld\n"
          ]
        }
      ]
    },
    {
      "cell_type": "code",
      "source": [
        "num1 = (10)\n",
        "num2 = (15)\n",
        "sum = num1 + num2\n",
        "print(sum)"
      ],
      "metadata": {
        "colab": {
          "base_uri": "https://localhost:8080/"
        },
        "id": "SzcqATuqp1bP",
        "outputId": "94080fbe-5400-407d-de4b-73f5a494b95d"
      },
      "execution_count": null,
      "outputs": [
        {
          "output_type": "stream",
          "name": "stdout",
          "text": [
            "25\n"
          ]
        }
      ]
    },
    {
      "cell_type": "markdown",
      "source": [
        "Write a program to check if a number is even or odd."
      ],
      "metadata": {
        "id": "2I5uFRtWtHpS"
      }
    },
    {
      "cell_type": "code",
      "source": [
        "num = 7\n",
        "if num % 2 == 0:\n",
        "  print(\"The Number is Even\")\n",
        "else:\n",
        "  print(\"The Number is odd\")"
      ],
      "metadata": {
        "colab": {
          "base_uri": "https://localhost:8080/"
        },
        "id": "v_gDh5_3rpDz",
        "outputId": "960896e1-81d1-4d82-be99-2a5f73d0d49a"
      },
      "execution_count": null,
      "outputs": [
        {
          "output_type": "stream",
          "name": "stdout",
          "text": [
            "The Number is odd\n"
          ]
        }
      ]
    },
    {
      "cell_type": "markdown",
      "source": [
        "Write a program to find the largest number in a list."
      ],
      "metadata": {
        "id": "PNS9G6EQtUMT"
      }
    },
    {
      "cell_type": "code",
      "source": [
        "num = (1,2,9,8,6,4)\n",
        "largest = max(num)\n",
        "print(largest)"
      ],
      "metadata": {
        "colab": {
          "base_uri": "https://localhost:8080/"
        },
        "id": "G6wudWoas-AU",
        "outputId": "fb79fde1-0c44-46fe-fd7c-dee62785b8dc"
      },
      "execution_count": null,
      "outputs": [
        {
          "output_type": "stream",
          "name": "stdout",
          "text": [
            "9\n"
          ]
        }
      ]
    },
    {
      "cell_type": "markdown",
      "source": [
        "Write a program to reverse a string"
      ],
      "metadata": {
        "id": "ncxAk_xmtorQ"
      }
    },
    {
      "cell_type": "code",
      "source": [
        "string = \"Cafe\"\n",
        "reversed_string = string[::-1]\n",
        "print(\"The reversed string is:\", reversed_string)"
      ],
      "metadata": {
        "colab": {
          "base_uri": "https://localhost:8080/"
        },
        "id": "Cp1hU6vEtkGo",
        "outputId": "42c376a1-8b92-48da-9773-a660a0dde3f0"
      },
      "execution_count": null,
      "outputs": [
        {
          "output_type": "stream",
          "name": "stdout",
          "text": [
            "The reversed string is: efaC\n"
          ]
        }
      ]
    },
    {
      "cell_type": "markdown",
      "source": [
        "Write a program to check if a string is a palindrome."
      ],
      "metadata": {
        "id": "3uogELUkxeeC"
      }
    },
    {
      "cell_type": "code",
      "source": [
        "string = \"noon\"\n",
        "reversed_string = string[::-1]\n",
        "if string == reversed_string:\n",
        "  print(\"The Name is Palindrome\")\n",
        "else:\n",
        "  print(\"The Name is not Palindrome\")"
      ],
      "metadata": {
        "colab": {
          "base_uri": "https://localhost:8080/"
        },
        "id": "rqmrujFHt_BW",
        "outputId": "019037aa-e5e9-484b-fc30-5bdc7853a057"
      },
      "execution_count": null,
      "outputs": [
        {
          "output_type": "stream",
          "name": "stdout",
          "text": [
            "The Name is Palindrome\n"
          ]
        }
      ]
    },
    {
      "cell_type": "code",
      "source": [
        "str = ''\n",
        "name = \"prakash\"\n",
        "for i in name:\n",
        "  # print(i)\n",
        "  str = i + str\n",
        "  print(str)\n"
      ],
      "metadata": {
        "colab": {
          "base_uri": "https://localhost:8080/"
        },
        "id": "WkaabLqC0PGg",
        "outputId": "11373949-e3e8-4d45-ea34-1716551ea680"
      },
      "execution_count": null,
      "outputs": [
        {
          "output_type": "stream",
          "name": "stdout",
          "text": [
            "p\n",
            "rp\n",
            "arp\n",
            "karp\n",
            "akarp\n",
            "sakarp\n",
            "hsakarp\n"
          ]
        }
      ]
    },
    {
      "cell_type": "code",
      "source": [
        "name = \"prakash\"\n",
        "for i in name:\n",
        "  print(i)"
      ],
      "metadata": {
        "colab": {
          "base_uri": "https://localhost:8080/"
        },
        "id": "NWxhhChHqT-S",
        "outputId": "2dd486ce-6afd-4045-8f20-b65ad75b57f0"
      },
      "execution_count": null,
      "outputs": [
        {
          "output_type": "stream",
          "name": "stdout",
          "text": [
            "p\n",
            "r\n",
            "a\n",
            "k\n",
            "a\n",
            "s\n",
            "h\n"
          ]
        }
      ]
    },
    {
      "cell_type": "markdown",
      "source": [
        "Write a program to sort a list in ascending order"
      ],
      "metadata": {
        "id": "R899_ffUrSZ9"
      }
    },
    {
      "cell_type": "code",
      "source": [
        "numbers = [5, 2, 8, 1, 3, 2, 4, 9]\n",
        "numbers.sort()\n",
        "print(\"The sorted list is:\", numbers)"
      ],
      "metadata": {
        "colab": {
          "base_uri": "https://localhost:8080/"
        },
        "id": "rJ9UkvCDqxz_",
        "outputId": "0d21eb60-e0f0-4583-d65c-535c4e658e1d"
      },
      "execution_count": null,
      "outputs": [
        {
          "output_type": "stream",
          "name": "stdout",
          "text": [
            "The sorted list is: [1, 2, 2, 3, 4, 5, 8, 9]\n"
          ]
        }
      ]
    },
    {
      "cell_type": "markdown",
      "source": [
        "Write a program to convert a string to uppercase."
      ],
      "metadata": {
        "id": "Ll3aZjDZsvr5"
      }
    },
    {
      "cell_type": "code",
      "source": [
        "string = \"upper\"\n",
        "upper_string = string.upper()\n",
        "print(\"The Uppercase string is:\",upper_string)"
      ],
      "metadata": {
        "colab": {
          "base_uri": "https://localhost:8080/"
        },
        "id": "3x90LAClrWfs",
        "outputId": "36dfb508-c584-44c4-e541-f3cf2ef31b8a"
      },
      "execution_count": null,
      "outputs": [
        {
          "output_type": "stream",
          "name": "stdout",
          "text": [
            "The Uppercase string is: UPPER\n"
          ]
        }
      ]
    },
    {
      "cell_type": "markdown",
      "source": [
        "Write a program to find the common elements between two lists."
      ],
      "metadata": {
        "id": "XUyX_NiptmuJ"
      }
    },
    {
      "cell_type": "code",
      "source": [
        "list1 = [1, 2, 3, 4, 5]\n",
        "list2 = [4, 5, 6, 7, 8]\n",
        "common_elements = list(set(list1) & set(list2))\n",
        "print(\"The common elements are:\", common_elements)"
      ],
      "metadata": {
        "colab": {
          "base_uri": "https://localhost:8080/"
        },
        "id": "_la22Vi-tZJh",
        "outputId": "6feb53cc-c826-4e52-bf9e-13541332c9f4"
      },
      "execution_count": null,
      "outputs": [
        {
          "output_type": "stream",
          "name": "stdout",
          "text": [
            "The common elements are: [4, 5]\n"
          ]
        }
      ]
    },
    {
      "cell_type": "markdown",
      "source": [
        "Write a program to remove duplicates from a list"
      ],
      "metadata": {
        "id": "Zupj0UwUu1fF"
      }
    },
    {
      "cell_type": "code",
      "source": [
        "numbers = [1,2,3,4,5,7,7,8,9,5,4]\n",
        "duplicate_list = list(set(numbers))\n",
        "print(\"The Removed Duplicate numbers are:\", duplicate_list)"
      ],
      "metadata": {
        "colab": {
          "base_uri": "https://localhost:8080/"
        },
        "id": "89NfGTTxuPk8",
        "outputId": "b20177fa-eb1b-4d3f-eefb-d20941943be2"
      },
      "execution_count": null,
      "outputs": [
        {
          "output_type": "stream",
          "name": "stdout",
          "text": [
            "The Duplicate numbers are: [1, 2, 3, 4, 5, 7, 8, 9]\n"
          ]
        }
      ]
    },
    {
      "cell_type": "markdown",
      "source": [
        "Write a program to find the length of a string with built-in len() function."
      ],
      "metadata": {
        "id": "iQWBQF9jyfMt"
      }
    },
    {
      "cell_type": "code",
      "source": [
        "name = \"Testing\"\n",
        "print(len(name))"
      ],
      "metadata": {
        "colab": {
          "base_uri": "https://localhost:8080/"
        },
        "id": "ApnPYjv2vT8u",
        "outputId": "0244f081-7ab6-4805-9e40-14e50dc52874"
      },
      "execution_count": null,
      "outputs": [
        {
          "output_type": "stream",
          "name": "stdout",
          "text": [
            "7\n"
          ]
        }
      ]
    },
    {
      "cell_type": "markdown",
      "source": [
        "Write a program to find the length of a string without using the built-in len() function."
      ],
      "metadata": {
        "id": "K9GZ35fBymwB"
      }
    },
    {
      "cell_type": "code",
      "source": [
        "def find_string_length(string):\n",
        "    count = 0\n",
        "    for char in string:\n",
        "        count += 1\n",
        "    return count\n",
        "\n",
        "string = \"Mathematics\"\n",
        "length = find_string_length(string)\n",
        "print(\"The length of the string is:\", length)"
      ],
      "metadata": {
        "colab": {
          "base_uri": "https://localhost:8080/"
        },
        "id": "XUNX9mgoyErX",
        "outputId": "11b9d171-555e-49c3-9840-8ecab205b3ef"
      },
      "execution_count": null,
      "outputs": [
        {
          "output_type": "stream",
          "name": "stdout",
          "text": [
            "The length of the string is: 11\n"
          ]
        }
      ]
    },
    {
      "cell_type": "markdown",
      "source": [
        "Add Two Numbers\n",
        "Method 1"
      ],
      "metadata": {
        "id": "GMKE9a0DiFid"
      }
    },
    {
      "cell_type": "code",
      "source": [
        "num1 = input()"
      ],
      "metadata": {
        "id": "zO0VJEkRjt5F"
      },
      "execution_count": null,
      "outputs": []
    },
    {
      "cell_type": "markdown",
      "source": [
        "Add Two Numbers Method 2"
      ],
      "metadata": {
        "id": "bfn_PTn3j2TB"
      }
    },
    {
      "cell_type": "code",
      "source": [
        "num1 = 6\n",
        "num2 = 8\n",
        "sum = num1 + num2\n",
        "print(sum)"
      ],
      "metadata": {
        "id": "PH2fOUWIyKbX",
        "colab": {
          "base_uri": "https://localhost:8080/"
        },
        "outputId": "c5664667-c276-48d6-ccbd-484a3c6d54ca"
      },
      "execution_count": 1,
      "outputs": [
        {
          "output_type": "stream",
          "name": "stdout",
          "text": [
            "14\n"
          ]
        }
      ]
    },
    {
      "cell_type": "code",
      "source": [],
      "metadata": {
        "id": "J9T6PoRfjajA"
      },
      "execution_count": null,
      "outputs": []
    }
  ]
}